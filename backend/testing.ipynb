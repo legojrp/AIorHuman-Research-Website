{
 "cells": [
  {
   "cell_type": "code",
   "execution_count": 2,
   "metadata": {},
   "outputs": [],
   "source": [
    "import post_distributor\n",
    "import pandas as pd\n",
    "import numpy\n",
    "\n",
    "data = post_distributor.read_excel_odc(\"posts.xlsx\")\n",
    "posts = data[\"TEXT\"]\n"
   ]
  },
  {
   "cell_type": "code",
   "execution_count": 3,
   "metadata": {},
   "outputs": [
    {
     "data": {
      "text/plain": [
       "np.float64(38.0)"
      ]
     },
     "execution_count": 3,
     "metadata": {},
     "output_type": "execute_result"
    }
   ],
   "source": [
    "data[\"Detecting-AI.com\"][2]"
   ]
  },
  {
   "cell_type": "code",
   "execution_count": 4,
   "metadata": {},
   "outputs": [],
   "source": [
    "# Create a new empty CSV file\n",
    "result = pd.DataFrame()  # Create an empty DataFrame\n",
    "\n",
    "for index, post in enumerate(posts):\n",
    "    percents = []\n",
    "    if not pd.isna(data[\"Detecting-AI.com\"][index]):\n",
    "        percents.append(data[\"Detecting-AI.com\"][index])\n",
    "    if not pd.isna(data[\"GPT Zero\"][index]):\n",
    "        percents.append(data[\"GPT Zero\"][index])\n",
    "    if not pd.isna(data[\"Scribbr\"][index]):\n",
    "        percents.append(data[\"Scribbr\"][index])\n",
    "    if not pd.isna(data[\"TheChecker.AI\"][index]):\n",
    "        percents.append(data[\"TheChecker.AI\"][index])\n",
    "    if not pd.isna(data[\"ZeroGPT\"][index]):\n",
    "        percents.append(data[\"ZeroGPT\"][index])\n",
    "\n",
    "    if (len(percents) > 0):\n",
    "        avg = sum(percents) / len(percents)\n",
    "\n",
    "        result = result._append({'Post': post, 'Average': avg}, ignore_index=True)\n",
    "    "
   ]
  },
  {
   "cell_type": "code",
   "execution_count": 5,
   "metadata": {},
   "outputs": [
    {
     "name": "stdout",
     "output_type": "stream",
     "text": [
      "[\"If he was a pedophile, every right-wing commentator would be (rightfully) celebrating his murder. When the most evil people in the world die, it should be celebrated. If United Healthcare withheld lifesaving medication or surgery from your wife or child, you wouldn't be a man if you did nothing about it. Left or right, the shooter was a hero\", \"Looks like the Biden administration the CIA and Ukraine toppled Syria government. The connection between Hayat Tahrir al-Sham (HTS) of Syria and Ukrainian intelligence has been a topic of discussion and speculation, particularly from Russian sources. Here's an overview based on available information: Allegations of Cooperation: Russian officials and media have claimed that Ukrainian intelligence, specifically the Defence Intelligence Directorate of Ukraine (GUR), has been involved in training HTS fighters in drone warfare and possibly coordinating military operations. These allegations include Ukrainian specialists teaching HTS how to manufacture drones themselves, aimed at conducting attacks against Russian forces in Syria. Denials and Contradictions: HTS has denied these allegations, describing them as part of a Russian disinformation campaign. Moreover, there are contradictions within Russian official statements regarding the extent and nature of any Ukrainian involvement in Syria. One source even suggested that Ukraine's military presence in Syria was minimal, focusing more on symbolic or psychological operations rather than direct military coordination. Geopolitical Context: These claims arise in the context of the broader geopolitical conflict involving Russia, Ukraine, and various actors in the Middle East. Ukrainian officials have hinted at engagements but downplayed significant involvement. The narrative suggests that Ukraine might seek to destabilize Russian operations globally, including in Syria, where Russia has a military presence supporting the Assad regime. Speculative Nature: Much of the information comes from posts on X or reports from Russian media, which might serve political or propaganda purposes. The lack of concrete evidence and the presence of denials from HTS make this connection speculative rather than definitively established. In summary, while there are allegations and some evidence of contact or cooperation between Ukrainian intelligence and HTS, the extent and nature of this relationship remain unclear and contested. The narrative is influenced by the geopolitical tensions between Russia, Ukraine, and their respective allies or adversaries.\", 'residents control government spending. When the government over spends, like sending an insane amount of money to Ukraine. It causes inflation. Which causes prices to go up. Which causes gas prices to go up. Also shutting down pipelines cause gas prices to go up. Biden did that.', 'ICE is taking action to protect American communities from dangerous criminals, targeting illegal immigrants convicted of heinous crimes like armed robbery and child exploitation. Under Trump, they’re finally free to make collateral arrests and keep us safe. #SecureTheBorder #LawAndOrder', \"𝐔𝐒 𝐭𝐨 𝐏𝐫𝐨𝐯𝐢𝐝𝐞 𝐔𝐤𝐫𝐚𝐢𝐧𝐞 𝐰𝐢𝐭𝐡 $𝟏 𝐁𝐢𝐥𝐥𝐢𝐨𝐧 𝐢𝐧 𝐖𝐞𝐚𝐩𝐨𝐧𝐬 𝐀𝐢𝐝 The United States announced a nearly $1 billion package of long-term military aid to Ukraine, bringing the total American support since the Russia-Ukraine invasion to over $62 billion. This latest package, part of the Ukraine Security Assistance Initiative, includes more drones and munitions for HIMARS, crucial for Ukraine's future defense but also aimed at bolstering their military capabilities in the ongoing conflict. According to Defense Secretary Lloyd Austin, this is a move driven by the Biden administration’s commitment to supporting Ukraine before President-elect Trump takes office, with questions surrounding his potential stance on continued support. The Biden administration seeks to maximize its remaining funding before the transition of power to ensure that Ukraine has the resources necessary to continue their fight against Russia’s aggression. This comes amid intense pressure from Russia's military escalation, including the deployment of North Korean troops and strikes on civilian infrastructure in Kyiv. The U.S. government is also urging European leaders and other nations to remain engaged and financially committed to supporting Ukraine during this critical period. Austin emphasized that this aid program will bolster long-term defense capabilities for Ukraine and that the U.S. remains committed to supporting democratic values and security worldwide. The decision follows a flurry of actions, including the transfer of $725 million in weapons from the Pentagon’s stockpiles, which aimed to accelerate the delivery of critical military equipment. The Biden administration has been working closely with the Ukrainian government and allies to ensure efficient and targeted delivery of resources and support.\", 'I guess that’s the problem when one starts spending everyone starts over spending and then once the lights come on in the music stops everybody’s like damn how much did we spend and how much is the debt? Maybe we got carried away with a few things we shouldn’t have have you seenthe daily wires new comedy? With Matt Walsh', 'I respect he resisted the planted anti Arab spring so cared about his people compared to what alternative was being pushed. He may have been awful but what alternatives were being pitched were worse. Just because etc has happened doesn’t mean truth can or should be pressured.', \"Think of it like this: if you're the kid with the biggest social media following at school, you're not just a student anymore; you're like the school's walking news channel. Elon Musk isn't just some guy tweeting; he's like the head cheerleader of information where whatever he says can start a trend or end a business. But here's the twist: he's not the only one. On X, everyone with a phone can report what's happening, share their views, or even debunk rumors. Elon's rallying cry, 'You are the media now,' isn't just for him; it's for everyone with an X account. It's like saying, 'Hey, you with the phone, you've got the power to shape the conversation, just like any big news network.' So, when someone tells Elon he's not the media, it's like saying only the school newspaper can talk…\"]\n"
     ]
    }
   ],
   "source": [
    "quiz_posts = pd.DataFrame()\n",
    "\n",
    "fil_results = result[result[\"Average\"] > 50]\n",
    "selected_indices = fil_results.sample(4)\n",
    "quiz_posts = quiz_posts._append(selected_indices)\n",
    "\n",
    "fil_results = result[(50 > result[\"Average\"]) > 0]\n",
    "selected_indices = fil_results.sample(4) \n",
    "quiz_posts = quiz_posts._append(selected_indices)\n",
    "\n",
    "quiz_posts = quiz_posts.sample(frac=1)\n",
    "\n",
    "pythoned_list = quiz_posts[\"Post\"].tolist()\n",
    "print(pythoned_list)\n"
   ]
  },
  {
   "cell_type": "code",
   "execution_count": 6,
   "metadata": {},
   "outputs": [
    {
     "data": {
      "text/plain": [
       "['I guess that’s the problem when one starts spending everyone starts over spending and then once the lights come on in the music stops everybody’s like damn how much did we spend and how much is the debt? Maybe we got carried away with a few things we shouldn’t have have you seenthe daily wires new comedy? With Matt Walsh',\n",
       " 'I respect he resisted the planted anti Arab spring so cared about his people compared to what alternative was being pushed. He may have been awful but what alternatives were being pitched were worse. Just because etc has happened doesn’t mean truth can or should be pressured.',\n",
       " \"Looks like the Biden administration the CIA and Ukraine toppled Syria government. The connection between Hayat Tahrir al-Sham (HTS) of Syria and Ukrainian intelligence has been a topic of discussion and speculation, particularly from Russian sources. Here's an overview based on available information: Allegations of Cooperation: Russian officials and media have claimed that Ukrainian intelligence, specifically the Defence Intelligence Directorate of Ukraine (GUR), has been involved in training HTS fighters in drone warfare and possibly coordinating military operations. These allegations include Ukrainian specialists teaching HTS how to manufacture drones themselves, aimed at conducting attacks against Russian forces in Syria. Denials and Contradictions: HTS has denied these allegations, describing them as part of a Russian disinformation campaign. Moreover, there are contradictions within Russian official statements regarding the extent and nature of any Ukrainian involvement in Syria. One source even suggested that Ukraine's military presence in Syria was minimal, focusing more on symbolic or psychological operations rather than direct military coordination. Geopolitical Context: These claims arise in the context of the broader geopolitical conflict involving Russia, Ukraine, and various actors in the Middle East. Ukrainian officials have hinted at engagements but downplayed significant involvement. The narrative suggests that Ukraine might seek to destabilize Russian operations globally, including in Syria, where Russia has a military presence supporting the Assad regime. Speculative Nature: Much of the information comes from posts on X or reports from Russian media, which might serve political or propaganda purposes. The lack of concrete evidence and the presence of denials from HTS make this connection speculative rather than definitively established. In summary, while there are allegations and some evidence of contact or cooperation between Ukrainian intelligence and HTS, the extent and nature of this relationship remain unclear and contested. The narrative is influenced by the geopolitical tensions between Russia, Ukraine, and their respective allies or adversaries.\",\n",
       " 'ICE is taking action to protect American communities from dangerous criminals, targeting illegal immigrants convicted of heinous crimes like armed robbery and child exploitation. Under Trump, they’re finally free to make collateral arrests and keep us safe. #SecureTheBorder #LawAndOrder',\n",
       " \"If he was a pedophile, every right-wing commentator would be (rightfully) celebrating his murder. When the most evil people in the world die, it should be celebrated. If United Healthcare withheld lifesaving medication or surgery from your wife or child, you wouldn't be a man if you did nothing about it. Left or right, the shooter was a hero\",\n",
       " 'residents control government spending. When the government over spends, like sending an insane amount of money to Ukraine. It causes inflation. Which causes prices to go up. Which causes gas prices to go up. Also shutting down pipelines cause gas prices to go up. Biden did that.',\n",
       " \"𝐔𝐒 𝐭𝐨 𝐏𝐫𝐨𝐯𝐢𝐝𝐞 𝐔𝐤𝐫𝐚𝐢𝐧𝐞 𝐰𝐢𝐭𝐡 $𝟏 𝐁𝐢𝐥𝐥𝐢𝐨𝐧 𝐢𝐧 𝐖𝐞𝐚𝐩𝐨𝐧𝐬 𝐀𝐢𝐝 The United States announced a nearly $1 billion package of long-term military aid to Ukraine, bringing the total American support since the Russia-Ukraine invasion to over $62 billion. This latest package, part of the Ukraine Security Assistance Initiative, includes more drones and munitions for HIMARS, crucial for Ukraine's future defense but also aimed at bolstering their military capabilities in the ongoing conflict. According to Defense Secretary Lloyd Austin, this is a move driven by the Biden administration’s commitment to supporting Ukraine before President-elect Trump takes office, with questions surrounding his potential stance on continued support. The Biden administration seeks to maximize its remaining funding before the transition of power to ensure that Ukraine has the resources necessary to continue their fight against Russia’s aggression. This comes amid intense pressure from Russia's military escalation, including the deployment of North Korean troops and strikes on civilian infrastructure in Kyiv. The U.S. government is also urging European leaders and other nations to remain engaged and financially committed to supporting Ukraine during this critical period. Austin emphasized that this aid program will bolster long-term defense capabilities for Ukraine and that the U.S. remains committed to supporting democratic values and security worldwide. The decision follows a flurry of actions, including the transfer of $725 million in weapons from the Pentagon’s stockpiles, which aimed to accelerate the delivery of critical military equipment. The Biden administration has been working closely with the Ukrainian government and allies to ensure efficient and targeted delivery of resources and support.\",\n",
       " \"Think of it like this: if you're the kid with the biggest social media following at school, you're not just a student anymore; you're like the school's walking news channel. Elon Musk isn't just some guy tweeting; he's like the head cheerleader of information where whatever he says can start a trend or end a business. But here's the twist: he's not the only one. On X, everyone with a phone can report what's happening, share their views, or even debunk rumors. Elon's rallying cry, 'You are the media now,' isn't just for him; it's for everyone with an X account. It's like saying, 'Hey, you with the phone, you've got the power to shape the conversation, just like any big news network.' So, when someone tells Elon he's not the media, it's like saying only the school newspaper can talk…\"]"
      ]
     },
     "execution_count": 6,
     "metadata": {},
     "output_type": "execute_result"
    }
   ],
   "source": [
    "quiz_posts = quiz_posts.sample(frac=1)\n",
    "\n",
    "quiz_posts[\"Post\"].tolist()"
   ]
  }
 ],
 "metadata": {
  "kernelspec": {
   "display_name": ".venv",
   "language": "python",
   "name": "python3"
  },
  "language_info": {
   "codemirror_mode": {
    "name": "ipython",
    "version": 3
   },
   "file_extension": ".py",
   "mimetype": "text/x-python",
   "name": "python",
   "nbconvert_exporter": "python",
   "pygments_lexer": "ipython3",
   "version": "3.12.4"
  }
 },
 "nbformat": 4,
 "nbformat_minor": 2
}
